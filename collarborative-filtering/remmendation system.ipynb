{
 "cells": [
  {
   "cell_type": "code",
   "execution_count": 3,
   "metadata": {},
   "outputs": [
    {
     "name": "stdout",
     "output_type": "stream",
     "text": [
      "Requirement already satisfied: lenskit in /Users/DDM/opt/anaconda3/lib/python3.8/site-packages (0.11.1)\n",
      "Requirement already satisfied: cffi>=1.12.2 in /Users/DDM/opt/anaconda3/lib/python3.8/site-packages (from lenskit) (1.14.0)\n",
      "Requirement already satisfied: numpy>=1.16 in /Users/DDM/opt/anaconda3/lib/python3.8/site-packages (from lenskit) (1.19.5)\n",
      "Requirement already satisfied: scipy>=1.2 in /Users/DDM/opt/anaconda3/lib/python3.8/site-packages (from lenskit) (1.5.0)\n",
      "Requirement already satisfied: numba<0.52,>=0.45 in /Users/DDM/opt/anaconda3/lib/python3.8/site-packages (from lenskit) (0.50.1)\n",
      "Requirement already satisfied: binpickle>=0.3.2 in /Users/DDM/opt/anaconda3/lib/python3.8/site-packages (from lenskit) (0.3.3)\n",
      "Requirement already satisfied: pandas>=0.24 in /Users/DDM/opt/anaconda3/lib/python3.8/site-packages (from lenskit) (1.0.5)\n",
      "Requirement already satisfied: pyarrow>=0.15 in /Users/DDM/opt/anaconda3/lib/python3.8/site-packages (from lenskit) (3.0.0)\n",
      "Requirement already satisfied: pycparser in /Users/DDM/opt/anaconda3/lib/python3.8/site-packages (from cffi>=1.12.2->lenskit) (2.20)\n",
      "Requirement already satisfied: llvmlite<0.34,>=0.33.0.dev0 in /Users/DDM/opt/anaconda3/lib/python3.8/site-packages (from numba<0.52,>=0.45->lenskit) (0.33.0+1.g022ab0f)\n",
      "Requirement already satisfied: setuptools in /Users/DDM/opt/anaconda3/lib/python3.8/site-packages (from numba<0.52,>=0.45->lenskit) (49.2.0.post20200714)\n",
      "Requirement already satisfied: msgpack>=1.0 in /Users/DDM/opt/anaconda3/lib/python3.8/site-packages (from binpickle>=0.3.2->lenskit) (1.0.0)\n",
      "Requirement already satisfied: python-dateutil>=2.6.1 in /Users/DDM/opt/anaconda3/lib/python3.8/site-packages (from pandas>=0.24->lenskit) (2.8.1)\n",
      "Requirement already satisfied: pytz>=2017.2 in /Users/DDM/opt/anaconda3/lib/python3.8/site-packages (from pandas>=0.24->lenskit) (2020.1)\n",
      "Requirement already satisfied: six>=1.5 in /Users/DDM/opt/anaconda3/lib/python3.8/site-packages (from python-dateutil>=2.6.1->pandas>=0.24->lenskit) (1.15.0)\n"
     ]
    }
   ],
   "source": [
    "!pip install lenskit\n",
    "\n",
    "import lenskit.datasets as ds\n",
    "import pandas as pd\n",
    "\n",
    "\n",
    "\n",
    "data = ds.MovieLens('data/')\n"
   ]
  },
  {
   "cell_type": "code",
   "execution_count": 27,
   "metadata": {},
   "outputs": [
    {
     "name": "stdout",
     "output_type": "stream",
     "text": [
      "fatal: destination path 'Movie-recommendation-system' already exists and is not an empty directory.\r\n"
     ]
    },
    {
     "data": {
      "text/html": [
       "<div>\n",
       "<style scoped>\n",
       "    .dataframe tbody tr th:only-of-type {\n",
       "        vertical-align: middle;\n",
       "    }\n",
       "\n",
       "    .dataframe tbody tr th {\n",
       "        vertical-align: top;\n",
       "    }\n",
       "\n",
       "    .dataframe thead th {\n",
       "        text-align: right;\n",
       "    }\n",
       "</style>\n",
       "<table border=\"1\" class=\"dataframe\">\n",
       "  <thead>\n",
       "    <tr style=\"text-align: right;\">\n",
       "      <th></th>\n",
       "      <th>user</th>\n",
       "      <th>item</th>\n",
       "      <th>rating</th>\n",
       "      <th>timestamp</th>\n",
       "    </tr>\n",
       "  </thead>\n",
       "  <tbody>\n",
       "    <tr>\n",
       "      <th>0</th>\n",
       "      <td>1</td>\n",
       "      <td>1</td>\n",
       "      <td>4.0</td>\n",
       "      <td>964982703</td>\n",
       "    </tr>\n",
       "    <tr>\n",
       "      <th>1</th>\n",
       "      <td>1</td>\n",
       "      <td>3</td>\n",
       "      <td>4.0</td>\n",
       "      <td>964981247</td>\n",
       "    </tr>\n",
       "    <tr>\n",
       "      <th>2</th>\n",
       "      <td>1</td>\n",
       "      <td>6</td>\n",
       "      <td>4.0</td>\n",
       "      <td>964982224</td>\n",
       "    </tr>\n",
       "    <tr>\n",
       "      <th>3</th>\n",
       "      <td>1</td>\n",
       "      <td>47</td>\n",
       "      <td>5.0</td>\n",
       "      <td>964983815</td>\n",
       "    </tr>\n",
       "    <tr>\n",
       "      <th>4</th>\n",
       "      <td>1</td>\n",
       "      <td>50</td>\n",
       "      <td>5.0</td>\n",
       "      <td>964982931</td>\n",
       "    </tr>\n",
       "    <tr>\n",
       "      <th>5</th>\n",
       "      <td>1</td>\n",
       "      <td>70</td>\n",
       "      <td>3.0</td>\n",
       "      <td>964982400</td>\n",
       "    </tr>\n",
       "    <tr>\n",
       "      <th>6</th>\n",
       "      <td>1</td>\n",
       "      <td>101</td>\n",
       "      <td>5.0</td>\n",
       "      <td>964980868</td>\n",
       "    </tr>\n",
       "    <tr>\n",
       "      <th>7</th>\n",
       "      <td>1</td>\n",
       "      <td>110</td>\n",
       "      <td>4.0</td>\n",
       "      <td>964982176</td>\n",
       "    </tr>\n",
       "    <tr>\n",
       "      <th>8</th>\n",
       "      <td>1</td>\n",
       "      <td>151</td>\n",
       "      <td>5.0</td>\n",
       "      <td>964984041</td>\n",
       "    </tr>\n",
       "    <tr>\n",
       "      <th>9</th>\n",
       "      <td>1</td>\n",
       "      <td>157</td>\n",
       "      <td>5.0</td>\n",
       "      <td>964984100</td>\n",
       "    </tr>\n",
       "  </tbody>\n",
       "</table>\n",
       "</div>"
      ],
      "text/plain": [
       "   user  item  rating  timestamp\n",
       "0     1     1     4.0  964982703\n",
       "1     1     3     4.0  964981247\n",
       "2     1     6     4.0  964982224\n",
       "3     1    47     5.0  964983815\n",
       "4     1    50     5.0  964982931\n",
       "5     1    70     3.0  964982400\n",
       "6     1   101     5.0  964980868\n",
       "7     1   110     4.0  964982176\n",
       "8     1   151     5.0  964984041\n",
       "9     1   157     5.0  964984100"
      ]
     },
     "execution_count": 27,
     "metadata": {},
     "output_type": "execute_result"
    }
   ],
   "source": [
    "!git clone https://github.com/DudJuz/Movie-recommendation-system.git\n",
    "data.ratings.head(10)"
   ]
  },
  {
   "cell_type": "code",
   "execution_count": 4,
   "metadata": {},
   "outputs": [
    {
     "name": "stdout",
     "output_type": "stream",
     "text": [
      "0        2000-07-30 18:45:03\n",
      "1        2000-07-30 18:20:47\n",
      "2        2000-07-30 18:37:04\n",
      "3        2000-07-30 19:03:35\n",
      "4        2000-07-30 18:48:51\n",
      "                 ...        \n",
      "100831   2017-05-03 21:53:22\n",
      "100832   2017-05-03 22:21:31\n",
      "100833   2017-05-08 19:50:47\n",
      "100834   2017-05-03 21:19:12\n",
      "100835   2017-05-03 21:20:15\n",
      "Name: timestamp, Length: 100836, dtype: datetime64[ns]\n"
     ]
    }
   ],
   "source": [
    "import datetime\n",
    "#data.ratings.timestamp = datetime.datetime.fromtimestamp(data.ratings.timestamp).intftime('%Y-%m-%d %H:%M:%S')\n",
    "data.ratings.timestamp = pd.to_datetime(data.ratings.timestamp,unit = 's')\n",
    "print(data.ratings.timestamp)"
   ]
  },
  {
   "cell_type": "markdown",
   "metadata": {},
   "source": [
    "### Summary statistics and distribution."
   ]
  },
  {
   "cell_type": "code",
   "execution_count": 5,
   "metadata": {},
   "outputs": [
    {
     "data": {
      "text/plain": [
       "<matplotlib.axes._subplots.AxesSubplot at 0x7fd128c5d280>"
      ]
     },
     "execution_count": 5,
     "metadata": {},
     "output_type": "execute_result"
    },
    {
     "data": {
      "image/png": "[encoded data removed]",
      "text/plain": [
       "<Figure size 432x288 with 1 Axes>"
      ]
     },
     "metadata": {
      "needs_background": "light"
     },
     "output_type": "display_data"
    }
   ],
   "source": [
    "import matplotlib.pyplot as plt\n",
    "import numpy as np\n",
    "\n",
    "import seaborn as sns\n",
    "#combine the cvs files \n",
    "joined_data = data.ratings.join(data.movies['genres'],on ='item')\n",
    "joined_data =joined_data.join(data.movies['title'],on ='item')\n",
    "copy_data = data.ratings\n",
    "joined_data.head(10)\n",
    "sns.set_style('whitegrid')\n",
    "sns.set(font_scale=1.5)\n",
    "%matplotlib inline\n",
    "\n",
    "# Display distribution of rating\n",
    "sns.distplot(copy_data['rating'].fillna(copy_data['rating'].median()))"
   ]
  },
  {
   "cell_type": "code",
   "execution_count": 7,
   "metadata": {},
   "outputs": [
    {
     "data": {
      "text/html": [
       "<div>\n",
       "<style scoped>\n",
       "    .dataframe tbody tr th:only-of-type {\n",
       "        vertical-align: middle;\n",
       "    }\n",
       "\n",
       "    .dataframe tbody tr th {\n",
       "        vertical-align: top;\n",
       "    }\n",
       "\n",
       "    .dataframe thead th {\n",
       "        text-align: right;\n",
       "    }\n",
       "</style>\n",
       "<table border=\"1\" class=\"dataframe\">\n",
       "  <thead>\n",
       "    <tr style=\"text-align: right;\">\n",
       "      <th></th>\n",
       "      <th>user</th>\n",
       "      <th>item</th>\n",
       "      <th>rating</th>\n",
       "      <th>timestamp</th>\n",
       "      <th>genres</th>\n",
       "      <th>title</th>\n",
       "    </tr>\n",
       "  </thead>\n",
       "  <tbody>\n",
       "    <tr>\n",
       "      <th>0</th>\n",
       "      <td>1</td>\n",
       "      <td>1</td>\n",
       "      <td>4.0</td>\n",
       "      <td>2000-07-30 18:45:03</td>\n",
       "      <td>Adventure|Animation|Children|Comedy|Fantasy</td>\n",
       "      <td>Toy Story (1995)</td>\n",
       "    </tr>\n",
       "    <tr>\n",
       "      <th>1</th>\n",
       "      <td>1</td>\n",
       "      <td>3</td>\n",
       "      <td>4.0</td>\n",
       "      <td>2000-07-30 18:20:47</td>\n",
       "      <td>Comedy|Romance</td>\n",
       "      <td>Grumpier Old Men (1995)</td>\n",
       "    </tr>\n",
       "    <tr>\n",
       "      <th>2</th>\n",
       "      <td>1</td>\n",
       "      <td>6</td>\n",
       "      <td>4.0</td>\n",
       "      <td>2000-07-30 18:37:04</td>\n",
       "      <td>Action|Crime|Thriller</td>\n",
       "      <td>Heat (1995)</td>\n",
       "    </tr>\n",
       "    <tr>\n",
       "      <th>3</th>\n",
       "      <td>1</td>\n",
       "      <td>47</td>\n",
       "      <td>5.0</td>\n",
       "      <td>2000-07-30 19:03:35</td>\n",
       "      <td>Mystery|Thriller</td>\n",
       "      <td>Seven (a.k.a. Se7en) (1995)</td>\n",
       "    </tr>\n",
       "    <tr>\n",
       "      <th>4</th>\n",
       "      <td>1</td>\n",
       "      <td>50</td>\n",
       "      <td>5.0</td>\n",
       "      <td>2000-07-30 18:48:51</td>\n",
       "      <td>Crime|Mystery|Thriller</td>\n",
       "      <td>Usual Suspects, The (1995)</td>\n",
       "    </tr>\n",
       "    <tr>\n",
       "      <th>5</th>\n",
       "      <td>1</td>\n",
       "      <td>70</td>\n",
       "      <td>3.0</td>\n",
       "      <td>2000-07-30 18:40:00</td>\n",
       "      <td>Action|Comedy|Horror|Thriller</td>\n",
       "      <td>From Dusk Till Dawn (1996)</td>\n",
       "    </tr>\n",
       "    <tr>\n",
       "      <th>6</th>\n",
       "      <td>1</td>\n",
       "      <td>101</td>\n",
       "      <td>5.0</td>\n",
       "      <td>2000-07-30 18:14:28</td>\n",
       "      <td>Adventure|Comedy|Crime|Romance</td>\n",
       "      <td>Bottle Rocket (1996)</td>\n",
       "    </tr>\n",
       "    <tr>\n",
       "      <th>7</th>\n",
       "      <td>1</td>\n",
       "      <td>110</td>\n",
       "      <td>4.0</td>\n",
       "      <td>2000-07-30 18:36:16</td>\n",
       "      <td>Action|Drama|War</td>\n",
       "      <td>Braveheart (1995)</td>\n",
       "    </tr>\n",
       "    <tr>\n",
       "      <th>8</th>\n",
       "      <td>1</td>\n",
       "      <td>151</td>\n",
       "      <td>5.0</td>\n",
       "      <td>2000-07-30 19:07:21</td>\n",
       "      <td>Action|Drama|Romance|War</td>\n",
       "      <td>Rob Roy (1995)</td>\n",
       "    </tr>\n",
       "    <tr>\n",
       "      <th>9</th>\n",
       "      <td>1</td>\n",
       "      <td>157</td>\n",
       "      <td>5.0</td>\n",
       "      <td>2000-07-30 19:08:20</td>\n",
       "      <td>Comedy|War</td>\n",
       "      <td>Canadian Bacon (1995)</td>\n",
       "    </tr>\n",
       "  </tbody>\n",
       "</table>\n",
       "</div>"
      ],
      "text/plain": [
       "   user  item  rating           timestamp  \\\n",
       "0     1     1     4.0 2000-07-30 18:45:03   \n",
       "1     1     3     4.0 2000-07-30 18:20:47   \n",
       "2     1     6     4.0 2000-07-30 18:37:04   \n",
       "3     1    47     5.0 2000-07-30 19:03:35   \n",
       "4     1    50     5.0 2000-07-30 18:48:51   \n",
       "5     1    70     3.0 2000-07-30 18:40:00   \n",
       "6     1   101     5.0 2000-07-30 18:14:28   \n",
       "7     1   110     4.0 2000-07-30 18:36:16   \n",
       "8     1   151     5.0 2000-07-30 19:07:21   \n",
       "9     1   157     5.0 2000-07-30 19:08:20   \n",
       "\n",
       "                                        genres                        title  \n",
       "0  Adventure|Animation|Children|Comedy|Fantasy             Toy Story (1995)  \n",
       "1                               Comedy|Romance      Grumpier Old Men (1995)  \n",
       "2                        Action|Crime|Thriller                  Heat (1995)  \n",
       "3                             Mystery|Thriller  Seven (a.k.a. Se7en) (1995)  \n",
       "4                       Crime|Mystery|Thriller   Usual Suspects, The (1995)  \n",
       "5                Action|Comedy|Horror|Thriller   From Dusk Till Dawn (1996)  \n",
       "6               Adventure|Comedy|Crime|Romance         Bottle Rocket (1996)  \n",
       "7                             Action|Drama|War            Braveheart (1995)  \n",
       "8                     Action|Drama|Romance|War               Rob Roy (1995)  \n",
       "9                                   Comedy|War        Canadian Bacon (1995)  "
      ]
     },
     "execution_count": 7,
     "metadata": {},
     "output_type": "execute_result"
    }
   ],
   "source": [
    "joined_data.head(10)"
   ]
  },
  {
   "cell_type": "markdown",
   "metadata": {},
   "source": [
    "### Average all the ratings by item\n",
    "* Sorting the movie which the condition of minimum reviews of 30\n",
    "people"
   ]
  },
  {
   "cell_type": "code",
   "execution_count": 30,
   "metadata": {
    "scrolled": true
   },
   "outputs": [
    {
     "name": "stdout",
     "output_type": "stream",
     "text": [
      "RECOMMENDED FOR ANYBODY:\n"
     ]
    },
    {
     "data": {
      "text/html": [
       "<div>\n",
       "<style scoped>\n",
       "    .dataframe tbody tr th:only-of-type {\n",
       "        vertical-align: middle;\n",
       "    }\n",
       "\n",
       "    .dataframe tbody tr th {\n",
       "        vertical-align: top;\n",
       "    }\n",
       "\n",
       "    .dataframe thead th {\n",
       "        text-align: right;\n",
       "    }\n",
       "</style>\n",
       "<table border=\"1\" class=\"dataframe\">\n",
       "  <thead>\n",
       "    <tr style=\"text-align: right;\">\n",
       "      <th></th>\n",
       "      <th>user</th>\n",
       "      <th>rating</th>\n",
       "      <th>genres</th>\n",
       "      <th>title</th>\n",
       "    </tr>\n",
       "    <tr>\n",
       "      <th>item</th>\n",
       "      <th></th>\n",
       "      <th></th>\n",
       "      <th></th>\n",
       "      <th></th>\n",
       "    </tr>\n",
       "  </thead>\n",
       "  <tbody>\n",
       "    <tr>\n",
       "      <th>318</th>\n",
       "      <td>302.300</td>\n",
       "      <td>4.429</td>\n",
       "      <td>Crime|Drama</td>\n",
       "      <td>Shawshank Redemption, The (1994)</td>\n",
       "    </tr>\n",
       "    <tr>\n",
       "      <th>1204</th>\n",
       "      <td>316.933</td>\n",
       "      <td>4.300</td>\n",
       "      <td>Adventure|Drama|War</td>\n",
       "      <td>Lawrence of Arabia (1962)</td>\n",
       "    </tr>\n",
       "    <tr>\n",
       "      <th>858</th>\n",
       "      <td>297.745</td>\n",
       "      <td>4.289</td>\n",
       "      <td>Crime|Drama</td>\n",
       "      <td>Godfather, The (1972)</td>\n",
       "    </tr>\n",
       "    <tr>\n",
       "      <th>2959</th>\n",
       "      <td>319.894</td>\n",
       "      <td>4.273</td>\n",
       "      <td>Action|Crime|Drama|Thriller</td>\n",
       "      <td>Fight Club (1999)</td>\n",
       "    </tr>\n",
       "    <tr>\n",
       "      <th>1276</th>\n",
       "      <td>273.211</td>\n",
       "      <td>4.272</td>\n",
       "      <td>Drama</td>\n",
       "      <td>Cool Hand Luke (1967)</td>\n",
       "    </tr>\n",
       "    <tr>\n",
       "      <th>750</th>\n",
       "      <td>316.825</td>\n",
       "      <td>4.268</td>\n",
       "      <td>Comedy|War</td>\n",
       "      <td>Dr. Strangelove or: How I Learned to Stop Worr...</td>\n",
       "    </tr>\n",
       "    <tr>\n",
       "      <th>904</th>\n",
       "      <td>309.929</td>\n",
       "      <td>4.262</td>\n",
       "      <td>Mystery|Thriller</td>\n",
       "      <td>Rear Window (1954)</td>\n",
       "    </tr>\n",
       "    <tr>\n",
       "      <th>1221</th>\n",
       "      <td>307.581</td>\n",
       "      <td>4.260</td>\n",
       "      <td>Crime|Drama</td>\n",
       "      <td>Godfather: Part II, The (1974)</td>\n",
       "    </tr>\n",
       "    <tr>\n",
       "      <th>48516</th>\n",
       "      <td>319.168</td>\n",
       "      <td>4.252</td>\n",
       "      <td>Crime|Drama|Thriller</td>\n",
       "      <td>Departed, The (2006)</td>\n",
       "    </tr>\n",
       "    <tr>\n",
       "      <th>1213</th>\n",
       "      <td>302.357</td>\n",
       "      <td>4.250</td>\n",
       "      <td>Crime|Drama</td>\n",
       "      <td>Goodfellas (1990)</td>\n",
       "    </tr>\n",
       "  </tbody>\n",
       "</table>\n",
       "</div>"
      ],
      "text/plain": [
       "          user  rating                       genres  \\\n",
       "item                                                  \n",
       "318    302.300   4.429                  Crime|Drama   \n",
       "1204   316.933   4.300          Adventure|Drama|War   \n",
       "858    297.745   4.289                  Crime|Drama   \n",
       "2959   319.894   4.273  Action|Crime|Drama|Thriller   \n",
       "1276   273.211   4.272                        Drama   \n",
       "750    316.825   4.268                   Comedy|War   \n",
       "904    309.929   4.262             Mystery|Thriller   \n",
       "1221   307.581   4.260                  Crime|Drama   \n",
       "48516  319.168   4.252         Crime|Drama|Thriller   \n",
       "1213   302.357   4.250                  Crime|Drama   \n",
       "\n",
       "                                                   title  \n",
       "item                                                      \n",
       "318                     Shawshank Redemption, The (1994)  \n",
       "1204                           Lawrence of Arabia (1962)  \n",
       "858                                Godfather, The (1972)  \n",
       "2959                                   Fight Club (1999)  \n",
       "1276                               Cool Hand Luke (1967)  \n",
       "750    Dr. Strangelove or: How I Learned to Stop Worr...  \n",
       "904                                   Rear Window (1954)  \n",
       "1221                      Godfather: Part II, The (1974)  \n",
       "48516                               Departed, The (2006)  \n",
       "1213                                   Goodfellas (1990)  "
      ]
     },
     "execution_count": 30,
     "metadata": {},
     "output_type": "execute_result"
    }
   ],
   "source": [
    "\n",
    "#<-- You can try changing this minimum to include movies rated by fewer or more people\n",
    "minimum_to_include = 30 \n",
    "average_ratings = round((data.ratings).groupby(['item']).mean(),3)\n",
    "\n",
    "rating_counts = (data.ratings).groupby(['item']).count()\n",
    "average_ratings = average_ratings.loc[rating_counts['rating'] > minimum_to_include]\n",
    "sorted_avg_ratings = average_ratings.sort_values(by=\"rating\", ascending=False)\n",
    "joined_data = sorted_avg_ratings.join(data.movies['genres'], on='item')\n",
    "joined_data = joined_data.join(data.movies['title'], on='item')\n",
    "joined_data = joined_data[joined_data.columns[0:]]\n",
    "\n",
    "print(\"RECOMMENDED FOR ANYBODY:\")\n",
    "joined_data.head(10)"
   ]
  },
  {
   "cell_type": "markdown",
   "metadata": {},
   "source": [
    "## Narrowing the list down by favorite \n",
    "### Action Movies   "
   ]
  },
  {
   "cell_type": "code",
   "execution_count": 31,
   "metadata": {},
   "outputs": [
    {
     "name": "stdout",
     "output_type": "stream",
     "text": [
      "RECOMMENDED FOR AN ACTION MOVIE FAN:\n"
     ]
    },
    {
     "data": {
      "text/html": [
       "<div>\n",
       "<style scoped>\n",
       "    .dataframe tbody tr th:only-of-type {\n",
       "        vertical-align: middle;\n",
       "    }\n",
       "\n",
       "    .dataframe tbody tr th {\n",
       "        vertical-align: top;\n",
       "    }\n",
       "\n",
       "    .dataframe thead th {\n",
       "        text-align: right;\n",
       "    }\n",
       "</style>\n",
       "<table border=\"1\" class=\"dataframe\">\n",
       "  <thead>\n",
       "    <tr style=\"text-align: right;\">\n",
       "      <th></th>\n",
       "      <th>title</th>\n",
       "    </tr>\n",
       "    <tr>\n",
       "      <th>item</th>\n",
       "      <th></th>\n",
       "    </tr>\n",
       "  </thead>\n",
       "  <tbody>\n",
       "    <tr>\n",
       "      <th>2959</th>\n",
       "      <td>Fight Club (1999)</td>\n",
       "    </tr>\n",
       "    <tr>\n",
       "      <th>58559</th>\n",
       "      <td>Dark Knight, The (2008)</td>\n",
       "    </tr>\n",
       "    <tr>\n",
       "      <th>1197</th>\n",
       "      <td>Princess Bride, The (1987)</td>\n",
       "    </tr>\n",
       "    <tr>\n",
       "      <th>260</th>\n",
       "      <td>Star Wars: Episode IV - A New Hope (1977)</td>\n",
       "    </tr>\n",
       "    <tr>\n",
       "      <th>3275</th>\n",
       "      <td>Boondock Saints, The (2000)</td>\n",
       "    </tr>\n",
       "    <tr>\n",
       "      <th>1208</th>\n",
       "      <td>Apocalypse Now (1979)</td>\n",
       "    </tr>\n",
       "    <tr>\n",
       "      <th>1196</th>\n",
       "      <td>Star Wars: Episode V - The Empire Strikes Back...</td>\n",
       "    </tr>\n",
       "    <tr>\n",
       "      <th>1233</th>\n",
       "      <td>Boot, Das (Boat, The) (1981)</td>\n",
       "    </tr>\n",
       "    <tr>\n",
       "      <th>1198</th>\n",
       "      <td>Raiders of the Lost Ark (Indiana Jones and the...</td>\n",
       "    </tr>\n",
       "    <tr>\n",
       "      <th>2571</th>\n",
       "      <td>Matrix, The (1999)</td>\n",
       "    </tr>\n",
       "  </tbody>\n",
       "</table>\n",
       "</div>"
      ],
      "text/plain": [
       "                                                   title\n",
       "item                                                    \n",
       "2959                                   Fight Club (1999)\n",
       "58559                            Dark Knight, The (2008)\n",
       "1197                          Princess Bride, The (1987)\n",
       "260            Star Wars: Episode IV - A New Hope (1977)\n",
       "3275                         Boondock Saints, The (2000)\n",
       "1208                               Apocalypse Now (1979)\n",
       "1196   Star Wars: Episode V - The Empire Strikes Back...\n",
       "1233                        Boot, Das (Boat, The) (1981)\n",
       "1198   Raiders of the Lost Ark (Indiana Jones and the...\n",
       "2571                                  Matrix, The (1999)"
      ]
     },
     "execution_count": 31,
     "metadata": {},
     "output_type": "execute_result"
    }
   ],
   "source": [
    "\n",
    "average_ratings = (data.ratings).groupby(['item']).mean()\n",
    "rating_counts = (data.ratings).groupby(['item']).count()\n",
    "\n",
    "#print(\"rating count\",rating_counts)\n",
    "average_ratings = average_ratings.loc[rating_counts['rating'] > minimum_to_include]\n",
    "average_ratings = average_ratings.join(data.movies['genres'], on='item')\n",
    "average_ratings = average_ratings.loc[average_ratings['genres'].str.contains('Action')]\n",
    "\n",
    "\n",
    "sorted_avg_ratings = average_ratings.sort_values(by=\"rating\", ascending=False)\n",
    "joined_data = sorted_avg_ratings.join(data.movies['title'], on='item')\n",
    "joined_data = joined_data[joined_data.columns[3:]]\n",
    "print(\"RECOMMENDED FOR AN ACTION MOVIE FAN:\")\n",
    "joined_data.head(10)"
   ]
  },
  {
   "cell_type": "markdown",
   "metadata": {},
   "source": [
    "### Romance Movies"
   ]
  },
  {
   "cell_type": "code",
   "execution_count": 169,
   "metadata": {},
   "outputs": [
    {
     "name": "stdout",
     "output_type": "stream",
     "text": [
      "RECOMMENDED FOR AN ACTION MOVIE FAN:\n"
     ]
    },
    {
     "data": {
      "text/html": [
       "<div>\n",
       "<style scoped>\n",
       "    .dataframe tbody tr th:only-of-type {\n",
       "        vertical-align: middle;\n",
       "    }\n",
       "\n",
       "    .dataframe tbody tr th {\n",
       "        vertical-align: top;\n",
       "    }\n",
       "\n",
       "    .dataframe thead th {\n",
       "        text-align: right;\n",
       "    }\n",
       "</style>\n",
       "<table border=\"1\" class=\"dataframe\">\n",
       "  <thead>\n",
       "    <tr style=\"text-align: right;\">\n",
       "      <th></th>\n",
       "      <th>title</th>\n",
       "    </tr>\n",
       "    <tr>\n",
       "      <th>item</th>\n",
       "      <th></th>\n",
       "    </tr>\n",
       "  </thead>\n",
       "  <tbody>\n",
       "    <tr>\n",
       "      <th>912</th>\n",
       "      <td>Casablanca (1942)</td>\n",
       "    </tr>\n",
       "    <tr>\n",
       "      <th>1197</th>\n",
       "      <td>Princess Bride, The (1987)</td>\n",
       "    </tr>\n",
       "    <tr>\n",
       "      <th>908</th>\n",
       "      <td>North by Northwest (1959)</td>\n",
       "    </tr>\n",
       "    <tr>\n",
       "      <th>4973</th>\n",
       "      <td>Amelie (Fabuleux destin d'Amélie Poulain, Le) ...</td>\n",
       "    </tr>\n",
       "    <tr>\n",
       "      <th>356</th>\n",
       "      <td>Forrest Gump (1994)</td>\n",
       "    </tr>\n",
       "    <tr>\n",
       "      <th>7361</th>\n",
       "      <td>Eternal Sunshine of the Spotless Mind (2004)</td>\n",
       "    </tr>\n",
       "    <tr>\n",
       "      <th>2324</th>\n",
       "      <td>Life Is Beautiful (La Vita è bella) (1997)</td>\n",
       "    </tr>\n",
       "    <tr>\n",
       "      <th>44555</th>\n",
       "      <td>Lives of Others, The (Das leben der Anderen) (...</td>\n",
       "    </tr>\n",
       "    <tr>\n",
       "      <th>1244</th>\n",
       "      <td>Manhattan (1979)</td>\n",
       "    </tr>\n",
       "    <tr>\n",
       "      <th>1704</th>\n",
       "      <td>Good Will Hunting (1997)</td>\n",
       "    </tr>\n",
       "  </tbody>\n",
       "</table>\n",
       "</div>"
      ],
      "text/plain": [
       "                                                   title\n",
       "item                                                    \n",
       "912                                    Casablanca (1942)\n",
       "1197                          Princess Bride, The (1987)\n",
       "908                            North by Northwest (1959)\n",
       "4973   Amelie (Fabuleux destin d'Amélie Poulain, Le) ...\n",
       "356                                  Forrest Gump (1994)\n",
       "7361        Eternal Sunshine of the Spotless Mind (2004)\n",
       "2324          Life Is Beautiful (La Vita è bella) (1997)\n",
       "44555  Lives of Others, The (Das leben der Anderen) (...\n",
       "1244                                    Manhattan (1979)\n",
       "1704                            Good Will Hunting (1997)"
      ]
     },
     "execution_count": 169,
     "metadata": {},
     "output_type": "execute_result"
    }
   ],
   "source": [
    "average_ratings = (data.ratings).groupby(['item']).mean()\n",
    "rating_counts = (data.ratings).groupby(['item']).count()\n",
    "\n",
    "#print(\"rating count\",rating_counts)\n",
    "average_ratings = average_ratings.loc[rating_counts['rating'] > minimum_to_include]\n",
    "average_ratings = average_ratings.join(data.movies['genres'], on='item')\n",
    "average_ratings = average_ratings.loc[average_ratings['genres'].str.contains('Romance')]\n",
    "\n",
    "\n",
    "sorted_avg_ratings = average_ratings.sort_values(by=\"rating\", ascending=False)\n",
    "joined_data = sorted_avg_ratings.join(data.movies['title'], on='item')\n",
    "joined_data = joined_data[joined_data.columns[3:]]\n",
    "print(\"RECOMMENDED FOR AN ACTION MOVIE FAN:\")\n",
    "joined_data.head(10)"
   ]
  },
  {
   "cell_type": "markdown",
   "metadata": {},
   "source": [
    "### Importing our personalized ratings"
   ]
  },
  {
   "cell_type": "code",
   "execution_count": 10,
   "metadata": {},
   "outputs": [
    {
     "name": "stdout",
     "output_type": "stream",
     "text": [
      "Rating dictionaries assembled!\n"
     ]
    }
   ],
   "source": [
    "import csv\n",
    "\n",
    "Baemin_rating_dict = {}\n",
    "Dennis_rating_dict = {}\n",
    "Tan_rating_dict = {}\n",
    "#Dennis's\n",
    "with open(\"Dennis-movie-ratings.csv\", newline='') as csvfile:\n",
    "  ratings_reader = csv.DictReader(csvfile)\n",
    "  for row in ratings_reader:\n",
    "    if ((row['ratings'] != \"\") and (float(row['ratings']) > 0) and (float(row['ratings']) < 6)):\n",
    "      Dennis_rating_dict.update({int(row['item']): float(row['ratings'])})\n",
    "#Baemin's\n",
    "with open(\"Baemin-movie-ratings.csv\", newline='') as csvfile:\n",
    "  ratings_reader = csv.DictReader(csvfile)\n",
    "  for row in ratings_reader:\n",
    "    if ((row['ratings'] != \"\") and (float(row['ratings']) > 0) and (float(row['ratings']) < 6)):\n",
    "      Baemin_rating_dict.update({int(row['item']): float(row['ratings'])})\n",
    "#Chris's\n",
    "with open(\"Tan-movie-ratings.csv\", newline='') as csvfile:\n",
    "  ratings_reader = csv.DictReader(csvfile)\n",
    "  for row in ratings_reader:\n",
    "    if ((row['ratings'] != \"\") and (float(row['ratings']) > 0) and (float(row['ratings']) < 6)):\n",
    "      Tan_rating_dict.update({int(row['item']): float(row['ratings'])})\n",
    "\n",
    "print(\"Rating dictionaries assembled!\")\n",
    "\n"
   ]
  },
  {
   "cell_type": "markdown",
   "metadata": {},
   "source": [
    "### Train a new collaborative filtering model to provide recommendations"
   ]
  },
  {
   "cell_type": "code",
   "execution_count": 33,
   "metadata": {},
   "outputs": [
    {
     "name": "stdout",
     "output_type": "stream",
     "text": [
      "Set up a User-User algorithm!\n"
     ]
    }
   ],
   "source": [
    "from lenskit.algorithms import Recommender\n",
    "from lenskit.algorithms.user_knn import UserUser\n",
    "\n",
    "num_recs = 6  #<---- This is the number of recommendations to generate. You can change this if you want to see more recommendations\n",
    "\n",
    "user_user = UserUser(15, min_nbrs = 3) #These two numbers set the minimum (3) and maximum (15) number of neighbors to consider. These are considered \"reasonable defaults,\" but you can experiment with others too\n",
    "algo = Recommender.adapt(user_user)\n",
    "algo.fit(data.ratings)\n",
    "\n",
    "print(\"Set up a User-User algorithm!\")"
   ]
  },
  {
   "cell_type": "markdown",
   "metadata": {},
   "source": [
    "### Recommendated movies for Dennis\n"
   ]
  },
  {
   "cell_type": "code",
   "execution_count": 34,
   "metadata": {},
   "outputs": [
    {
     "name": "stdout",
     "output_type": "stream",
     "text": [
      "\n",
      "\n",
      "RECOMMENDED FOR Dennis:\n"
     ]
    },
    {
     "data": {
      "text/html": [
       "<div>\n",
       "<style scoped>\n",
       "    .dataframe tbody tr th:only-of-type {\n",
       "        vertical-align: middle;\n",
       "    }\n",
       "\n",
       "    .dataframe tbody tr th {\n",
       "        vertical-align: top;\n",
       "    }\n",
       "\n",
       "    .dataframe thead th {\n",
       "        text-align: right;\n",
       "    }\n",
       "</style>\n",
       "<table border=\"1\" class=\"dataframe\">\n",
       "  <thead>\n",
       "    <tr style=\"text-align: right;\">\n",
       "      <th></th>\n",
       "      <th>genres</th>\n",
       "      <th>title</th>\n",
       "    </tr>\n",
       "  </thead>\n",
       "  <tbody>\n",
       "    <tr>\n",
       "      <th>0</th>\n",
       "      <td>Comedy|Drama</td>\n",
       "      <td>Last Detail, The (1973)</td>\n",
       "    </tr>\n",
       "    <tr>\n",
       "      <th>1</th>\n",
       "      <td>Comedy</td>\n",
       "      <td>Love and Death (1975)</td>\n",
       "    </tr>\n",
       "    <tr>\n",
       "      <th>2</th>\n",
       "      <td>Drama</td>\n",
       "      <td>Before Night Falls (2000)</td>\n",
       "    </tr>\n",
       "    <tr>\n",
       "      <th>3</th>\n",
       "      <td>Drama</td>\n",
       "      <td>Magdalene Sisters, The (2002)</td>\n",
       "    </tr>\n",
       "    <tr>\n",
       "      <th>4</th>\n",
       "      <td>Drama|Horror|Mystery|Sci-Fi|Thriller</td>\n",
       "      <td>Black Mirror: White Christmas (2014)</td>\n",
       "    </tr>\n",
       "    <tr>\n",
       "      <th>5</th>\n",
       "      <td>Action|Animation|Drama|Fantasy|Sci-Fi</td>\n",
       "      <td>Neon Genesis Evangelion: The End of Evangelion...</td>\n",
       "    </tr>\n",
       "  </tbody>\n",
       "</table>\n",
       "</div>"
      ],
      "text/plain": [
       "                                  genres  \\\n",
       "0                           Comedy|Drama   \n",
       "1                                 Comedy   \n",
       "2                                  Drama   \n",
       "3                                  Drama   \n",
       "4   Drama|Horror|Mystery|Sci-Fi|Thriller   \n",
       "5  Action|Animation|Drama|Fantasy|Sci-Fi   \n",
       "\n",
       "                                               title  \n",
       "0                            Last Detail, The (1973)  \n",
       "1                              Love and Death (1975)  \n",
       "2                          Before Night Falls (2000)  \n",
       "3                      Magdalene Sisters, The (2002)  \n",
       "4               Black Mirror: White Christmas (2014)  \n",
       "5  Neon Genesis Evangelion: The End of Evangelion...  "
      ]
     },
     "execution_count": 34,
     "metadata": {},
     "output_type": "execute_result"
    }
   ],
   "source": [
    "Dennis_recs = algo.recommend(-1, num_recs, ratings=pd.Series(Dennis_rating_dict))  #Here, -1 tells it that it's not an existing user in the set, that we're giving new ratings, while 10 is how many recommendations it should generate\n",
    "\n",
    "joined_data = Dennis_recs.join(data.movies['genres'], on='item')      \n",
    "joined_data = joined_data.join(data.movies['title'], on='item')\n",
    "joined_data = joined_data[joined_data.columns[2:]]\n",
    "print(\"\\n\\nRECOMMENDED FOR Dennis:\")\n",
    "joined_data"
   ]
  },
  {
   "cell_type": "markdown",
   "metadata": {},
   "source": [
    "### Recommendated movies for Baemin"
   ]
  },
  {
   "cell_type": "code",
   "execution_count": 35,
   "metadata": {},
   "outputs": [
    {
     "name": "stdout",
     "output_type": "stream",
     "text": [
      "\n",
      "\n",
      "RECOMMENDED FOR Baemin:\n"
     ]
    },
    {
     "data": {
      "text/html": [
       "<div>\n",
       "<style scoped>\n",
       "    .dataframe tbody tr th:only-of-type {\n",
       "        vertical-align: middle;\n",
       "    }\n",
       "\n",
       "    .dataframe tbody tr th {\n",
       "        vertical-align: top;\n",
       "    }\n",
       "\n",
       "    .dataframe thead th {\n",
       "        text-align: right;\n",
       "    }\n",
       "</style>\n",
       "<table border=\"1\" class=\"dataframe\">\n",
       "  <thead>\n",
       "    <tr style=\"text-align: right;\">\n",
       "      <th></th>\n",
       "      <th>genres</th>\n",
       "      <th>title</th>\n",
       "    </tr>\n",
       "  </thead>\n",
       "  <tbody>\n",
       "    <tr>\n",
       "      <th>0</th>\n",
       "      <td>Comedy|Drama</td>\n",
       "      <td>Last Detail, The (1973)</td>\n",
       "    </tr>\n",
       "    <tr>\n",
       "      <th>1</th>\n",
       "      <td>Comedy|Drama</td>\n",
       "      <td>Best Exotic Marigold Hotel, The (2011)</td>\n",
       "    </tr>\n",
       "    <tr>\n",
       "      <th>2</th>\n",
       "      <td>Comedy</td>\n",
       "      <td>Love and Death (1975)</td>\n",
       "    </tr>\n",
       "    <tr>\n",
       "      <th>3</th>\n",
       "      <td>Drama</td>\n",
       "      <td>Reign Over Me (2007)</td>\n",
       "    </tr>\n",
       "    <tr>\n",
       "      <th>4</th>\n",
       "      <td>Drama</td>\n",
       "      <td>Half Nelson (2006)</td>\n",
       "    </tr>\n",
       "    <tr>\n",
       "      <th>5</th>\n",
       "      <td>Drama|Romance|Sci-Fi</td>\n",
       "      <td>Never Let Me Go (2010)</td>\n",
       "    </tr>\n",
       "  </tbody>\n",
       "</table>\n",
       "</div>"
      ],
      "text/plain": [
       "                 genres                                   title\n",
       "0          Comedy|Drama                 Last Detail, The (1973)\n",
       "1          Comedy|Drama  Best Exotic Marigold Hotel, The (2011)\n",
       "2                Comedy                   Love and Death (1975)\n",
       "3                 Drama                    Reign Over Me (2007)\n",
       "4                 Drama                      Half Nelson (2006)\n",
       "5  Drama|Romance|Sci-Fi                  Never Let Me Go (2010)"
      ]
     },
     "execution_count": 35,
     "metadata": {},
     "output_type": "execute_result"
    }
   ],
   "source": [
    "Baemin_recs = algo.recommend(-1, num_recs, ratings=pd.Series(Baemin_rating_dict))  #Here, -1 tells it that it's not an existing user in the set, that we're giving new ratings, while 10 is how many recommendations it should generate\n",
    "\n",
    "joined_data = Baemin_recs.join(data.movies['genres'], on='item')      \n",
    "joined_data = joined_data.join(data.movies['title'], on='item')\n",
    "joined_data = joined_data[joined_data.columns[2:]]\n",
    "print(\"\\n\\nRECOMMENDED FOR Baemin:\")\n",
    "joined_data"
   ]
  },
  {
   "cell_type": "markdown",
   "metadata": {},
   "source": [
    "### Recommendated movies for Chris"
   ]
  },
  {
   "cell_type": "code",
   "execution_count": 36,
   "metadata": {},
   "outputs": [
    {
     "name": "stdout",
     "output_type": "stream",
     "text": [
      "\n",
      "\n",
      "RECOMMENDED FOR Chris:\n"
     ]
    },
    {
     "data": {
      "text/html": [
       "<div>\n",
       "<style scoped>\n",
       "    .dataframe tbody tr th:only-of-type {\n",
       "        vertical-align: middle;\n",
       "    }\n",
       "\n",
       "    .dataframe tbody tr th {\n",
       "        vertical-align: top;\n",
       "    }\n",
       "\n",
       "    .dataframe thead th {\n",
       "        text-align: right;\n",
       "    }\n",
       "</style>\n",
       "<table border=\"1\" class=\"dataframe\">\n",
       "  <thead>\n",
       "    <tr style=\"text-align: right;\">\n",
       "      <th></th>\n",
       "      <th>genres</th>\n",
       "      <th>title</th>\n",
       "    </tr>\n",
       "  </thead>\n",
       "  <tbody>\n",
       "    <tr>\n",
       "      <th>0</th>\n",
       "      <td>Drama</td>\n",
       "      <td>Before Night Falls (2000)</td>\n",
       "    </tr>\n",
       "    <tr>\n",
       "      <th>1</th>\n",
       "      <td>Action|Animation|Drama|Fantasy|Sci-Fi</td>\n",
       "      <td>Neon Genesis Evangelion: The End of Evangelion...</td>\n",
       "    </tr>\n",
       "    <tr>\n",
       "      <th>2</th>\n",
       "      <td>Action|Adventure|Thriller</td>\n",
       "      <td>Raiders of the Lost Ark: The Adaptation (1989)</td>\n",
       "    </tr>\n",
       "    <tr>\n",
       "      <th>3</th>\n",
       "      <td>Documentary</td>\n",
       "      <td>Scratch (2001)</td>\n",
       "    </tr>\n",
       "    <tr>\n",
       "      <th>4</th>\n",
       "      <td>Comedy|Drama</td>\n",
       "      <td>Last Detail, The (1973)</td>\n",
       "    </tr>\n",
       "    <tr>\n",
       "      <th>5</th>\n",
       "      <td>Comedy|Drama|War</td>\n",
       "      <td>Underground (1995)</td>\n",
       "    </tr>\n",
       "  </tbody>\n",
       "</table>\n",
       "</div>"
      ],
      "text/plain": [
       "                                  genres  \\\n",
       "0                                  Drama   \n",
       "1  Action|Animation|Drama|Fantasy|Sci-Fi   \n",
       "2              Action|Adventure|Thriller   \n",
       "3                            Documentary   \n",
       "4                           Comedy|Drama   \n",
       "5                       Comedy|Drama|War   \n",
       "\n",
       "                                               title  \n",
       "0                          Before Night Falls (2000)  \n",
       "1  Neon Genesis Evangelion: The End of Evangelion...  \n",
       "2     Raiders of the Lost Ark: The Adaptation (1989)  \n",
       "3                                     Scratch (2001)  \n",
       "4                            Last Detail, The (1973)  \n",
       "5                                 Underground (1995)  "
      ]
     },
     "execution_count": 36,
     "metadata": {},
     "output_type": "execute_result"
    }
   ],
   "source": [
    "Tan_recs = algo.recommend(-1, num_recs, ratings=pd.Series(Tan_rating_dict))  #Here, -1 tells it that it's not an existing user in the set, that we're giving new ratings, while 10 is how many recommendations it should generate\n",
    "\n",
    "joined_data = Tan_recs.join(data.movies['genres'], on='item')      \n",
    "joined_data = joined_data.join(data.movies['title'], on='item')\n",
    "joined_data = joined_data[joined_data.columns[2:]]\n",
    "print(\"\\n\\nRECOMMENDED FOR Chris:\")\n",
    "joined_data"
   ]
  },
  {
   "cell_type": "markdown",
   "metadata": {},
   "source": [
    "\n",
    "## Making a combined movie recommendation list for entire team\n",
    "* If all of us have rated a movie, it will average our ratings\n",
    "* If only one of us has rated a movie, it will just add that movie to the list of preferences"
   ]
  },
  {
   "cell_type": "code",
   "execution_count": 9,
   "metadata": {},
   "outputs": [
    {
     "name": "stdout",
     "output_type": "stream",
     "text": [
      "Combined ratings dictionary assembled!\n"
     ]
    }
   ],
   "source": [
    "combined_rating_dict = {}\n",
    "\n",
    "for k in Dennis_rating_dict:\n",
    "  if k in Baemin_rating_dict and k in Tan_rating_dict:\n",
    "    combined_rating_dict.update({k: float((Dennis_rating_dict[k]+Baemin_rating_dict[k] + Tan_rating_dict[k])/3)})\n",
    "  else:\n",
    "    combined_rating_dict.update({k:Dennis_rating_dict[k]})\n",
    "for k in Baemin_rating_dict:\n",
    "   if k not in combined_rating_dict:\n",
    "      combined_rating_dict.update({k:Baemin_rating_dict[k]})\n",
    "for k in Tan_rating_dict:\n",
    "   if k not in combined_rating_dict:\n",
    "      combined_rating_dict.update({k:Tan_rating_dict[k]})\n",
    "\n",
    "      \n",
    "print(\"Combined ratings dictionary assembled!\")\n"
   ]
  },
  {
   "cell_type": "markdown",
   "metadata": {},
   "source": [
    "* So now, we have a combined dictionary that we can plug right into our User-User model to output a ranked list of new movies"
   ]
  },
  {
   "cell_type": "code",
   "execution_count": 87,
   "metadata": {},
   "outputs": [
    {
     "name": "stdout",
     "output_type": "stream",
     "text": [
      "\n",
      "\n",
      "RECOMMENDED FOR OUR TEAM:\n"
     ]
    },
    {
     "data": {
      "text/html": [
       "<div>\n",
       "<style scoped>\n",
       "    .dataframe tbody tr th:only-of-type {\n",
       "        vertical-align: middle;\n",
       "    }\n",
       "\n",
       "    .dataframe tbody tr th {\n",
       "        vertical-align: top;\n",
       "    }\n",
       "\n",
       "    .dataframe thead th {\n",
       "        text-align: right;\n",
       "    }\n",
       "</style>\n",
       "<table border=\"1\" class=\"dataframe\">\n",
       "  <thead>\n",
       "    <tr style=\"text-align: right;\">\n",
       "      <th></th>\n",
       "      <th>genres</th>\n",
       "      <th>title</th>\n",
       "    </tr>\n",
       "  </thead>\n",
       "  <tbody>\n",
       "    <tr>\n",
       "      <th>0</th>\n",
       "      <td>Comedy|Drama|Romance</td>\n",
       "      <td>Submarine (2010)</td>\n",
       "    </tr>\n",
       "    <tr>\n",
       "      <th>1</th>\n",
       "      <td>Comedy</td>\n",
       "      <td>Love and Death (1975)</td>\n",
       "    </tr>\n",
       "    <tr>\n",
       "      <th>2</th>\n",
       "      <td>Comedy|Drama</td>\n",
       "      <td>Last Detail, The (1973)</td>\n",
       "    </tr>\n",
       "    <tr>\n",
       "      <th>3</th>\n",
       "      <td>Action|Animation|Drama|Fantasy|Sci-Fi</td>\n",
       "      <td>Neon Genesis Evangelion: The End of Evangelion...</td>\n",
       "    </tr>\n",
       "    <tr>\n",
       "      <th>4</th>\n",
       "      <td>Adventure|Drama</td>\n",
       "      <td>Doctor Who: The Time of the Doctor (2013)</td>\n",
       "    </tr>\n",
       "    <tr>\n",
       "      <th>5</th>\n",
       "      <td>Crime|Drama</td>\n",
       "      <td>Pierrot le fou (1965)</td>\n",
       "    </tr>\n",
       "  </tbody>\n",
       "</table>\n",
       "</div>"
      ],
      "text/plain": [
       "                                  genres  \\\n",
       "0                   Comedy|Drama|Romance   \n",
       "1                                 Comedy   \n",
       "2                           Comedy|Drama   \n",
       "3  Action|Animation|Drama|Fantasy|Sci-Fi   \n",
       "4                        Adventure|Drama   \n",
       "5                            Crime|Drama   \n",
       "\n",
       "                                               title  \n",
       "0                                   Submarine (2010)  \n",
       "1                              Love and Death (1975)  \n",
       "2                            Last Detail, The (1973)  \n",
       "3  Neon Genesis Evangelion: The End of Evangelion...  \n",
       "4          Doctor Who: The Time of the Doctor (2013)  \n",
       "5                              Pierrot le fou (1965)  "
      ]
     },
     "execution_count": 87,
     "metadata": {},
     "output_type": "execute_result"
    }
   ],
   "source": [
    "combined_recs = algo.recommend(-1, num_recs, ratings=pd.Series(combined_rating_dict))  #Here, -1 tells it that it's not an existing user in the set, that we're giving new ratings, while 10 is how many recommendations it should generate\n",
    "\n",
    "joined_data = combined_recs.join(data.movies['genres'], on='item')      \n",
    "joined_data = joined_data.join(data.movies['title'], on='item')\n",
    "\n",
    "joined_data = joined_data[joined_data.columns[2:]]\n",
    "print(\"\\n\\nRECOMMENDED FOR OUR TEAM:\")\n",
    "\n",
    "joined_data"
   ]
  },
  {
   "cell_type": "code",
   "execution_count": null,
   "metadata": {},
   "outputs": [],
   "source": []
  },
  {
   "cell_type": "markdown",
   "metadata": {},
   "source": []
  },
  {
   "cell_type": "code",
   "execution_count": null,
   "metadata": {},
   "outputs": [],
   "source": []
  },
  {
   "cell_type": "code",
   "execution_count": null,
   "metadata": {},
   "outputs": [],
   "source": []
  },
  {
   "cell_type": "markdown",
   "metadata": {},
   "source": [
    "### User_item CF"
   ]
  },
  {
   "cell_type": "code",
   "execution_count": 93,
   "metadata": {},
   "outputs": [
    {
     "data": {
      "text/html": [
       "<div>\n",
       "<style scoped>\n",
       "    .dataframe tbody tr th:only-of-type {\n",
       "        vertical-align: middle;\n",
       "    }\n",
       "\n",
       "    .dataframe tbody tr th {\n",
       "        vertical-align: top;\n",
       "    }\n",
       "\n",
       "    .dataframe thead th {\n",
       "        text-align: right;\n",
       "    }\n",
       "</style>\n",
       "<table border=\"1\" class=\"dataframe\">\n",
       "  <thead>\n",
       "    <tr style=\"text-align: right;\">\n",
       "      <th></th>\n",
       "      <th>user</th>\n",
       "      <th>item</th>\n",
       "      <th>rating</th>\n",
       "      <th>timestamp</th>\n",
       "    </tr>\n",
       "  </thead>\n",
       "  <tbody>\n",
       "    <tr>\n",
       "      <th>0</th>\n",
       "      <td>1</td>\n",
       "      <td>1</td>\n",
       "      <td>4.0</td>\n",
       "      <td>2000-07-30 18:45:03</td>\n",
       "    </tr>\n",
       "    <tr>\n",
       "      <th>1</th>\n",
       "      <td>1</td>\n",
       "      <td>3</td>\n",
       "      <td>4.0</td>\n",
       "      <td>2000-07-30 18:20:47</td>\n",
       "    </tr>\n",
       "    <tr>\n",
       "      <th>2</th>\n",
       "      <td>1</td>\n",
       "      <td>6</td>\n",
       "      <td>4.0</td>\n",
       "      <td>2000-07-30 18:37:04</td>\n",
       "    </tr>\n",
       "    <tr>\n",
       "      <th>3</th>\n",
       "      <td>1</td>\n",
       "      <td>47</td>\n",
       "      <td>5.0</td>\n",
       "      <td>2000-07-30 19:03:35</td>\n",
       "    </tr>\n",
       "    <tr>\n",
       "      <th>4</th>\n",
       "      <td>1</td>\n",
       "      <td>50</td>\n",
       "      <td>5.0</td>\n",
       "      <td>2000-07-30 18:48:51</td>\n",
       "    </tr>\n",
       "    <tr>\n",
       "      <th>...</th>\n",
       "      <td>...</td>\n",
       "      <td>...</td>\n",
       "      <td>...</td>\n",
       "      <td>...</td>\n",
       "    </tr>\n",
       "    <tr>\n",
       "      <th>100831</th>\n",
       "      <td>610</td>\n",
       "      <td>166534</td>\n",
       "      <td>4.0</td>\n",
       "      <td>2017-05-03 21:53:22</td>\n",
       "    </tr>\n",
       "    <tr>\n",
       "      <th>100832</th>\n",
       "      <td>610</td>\n",
       "      <td>168248</td>\n",
       "      <td>5.0</td>\n",
       "      <td>2017-05-03 22:21:31</td>\n",
       "    </tr>\n",
       "    <tr>\n",
       "      <th>100833</th>\n",
       "      <td>610</td>\n",
       "      <td>168250</td>\n",
       "      <td>5.0</td>\n",
       "      <td>2017-05-08 19:50:47</td>\n",
       "    </tr>\n",
       "    <tr>\n",
       "      <th>100834</th>\n",
       "      <td>610</td>\n",
       "      <td>168252</td>\n",
       "      <td>5.0</td>\n",
       "      <td>2017-05-03 21:19:12</td>\n",
       "    </tr>\n",
       "    <tr>\n",
       "      <th>100835</th>\n",
       "      <td>610</td>\n",
       "      <td>170875</td>\n",
       "      <td>3.0</td>\n",
       "      <td>2017-05-03 21:20:15</td>\n",
       "    </tr>\n",
       "  </tbody>\n",
       "</table>\n",
       "<p>100836 rows × 4 columns</p>\n",
       "</div>"
      ],
      "text/plain": [
       "        user    item  rating           timestamp\n",
       "0          1       1     4.0 2000-07-30 18:45:03\n",
       "1          1       3     4.0 2000-07-30 18:20:47\n",
       "2          1       6     4.0 2000-07-30 18:37:04\n",
       "3          1      47     5.0 2000-07-30 19:03:35\n",
       "4          1      50     5.0 2000-07-30 18:48:51\n",
       "...      ...     ...     ...                 ...\n",
       "100831   610  166534     4.0 2017-05-03 21:53:22\n",
       "100832   610  168248     5.0 2017-05-03 22:21:31\n",
       "100833   610  168250     5.0 2017-05-08 19:50:47\n",
       "100834   610  168252     5.0 2017-05-03 21:19:12\n",
       "100835   610  170875     3.0 2017-05-03 21:20:15\n",
       "\n",
       "[100836 rows x 4 columns]"
      ]
     },
     "execution_count": 93,
     "metadata": {},
     "output_type": "execute_result"
    }
   ],
   "source": [
    "copy_data"
   ]
  },
  {
   "cell_type": "code",
   "execution_count": 81,
   "metadata": {},
   "outputs": [
    {
     "data": {
      "text/plain": [
       "count    100836.000000\n",
       "mean          3.501557\n",
       "std           1.042529\n",
       "min           0.500000\n",
       "25%           3.000000\n",
       "50%           3.500000\n",
       "75%           4.000000\n",
       "max           5.000000\n",
       "Name: rating, dtype: float64"
      ]
     },
     "execution_count": 81,
     "metadata": {},
     "output_type": "execute_result"
    }
   ],
   "source": [
    "copy_data['rating'].describe()"
   ]
  },
  {
   "cell_type": "markdown",
   "metadata": {},
   "source": []
  },
  {
   "cell_type": "code",
   "execution_count": null,
   "metadata": {},
   "outputs": [],
   "source": []
  },
  {
   "cell_type": "code",
   "execution_count": 15,
   "metadata": {},
   "outputs": [
    {
     "name": "stdout",
     "output_type": "stream",
     "text": [
      "       user    item  rating\n",
      "61890   410    1172     4.0\n",
      "72857   469    3210     3.0\n",
      "75848   477    6707     2.0\n",
      "56428   373     364     5.0\n",
      "74203   474    4034     4.5\n",
      "...     ...     ...     ...\n",
      "59056   385     593     3.0\n",
      "13952    89  128089     4.5\n",
      "72939   470     110     5.0\n",
      "79780   496    8640     2.0\n",
      "58260   381    2701     2.0\n",
      "\n",
      "[2017 rows x 3 columns]\n",
      "<class 'pandas.core.frame.DataFrame'>\n",
      "Int64Index: 2017 entries, 61890 to 58260\n",
      "Data columns (total 3 columns):\n",
      " #   Column  Non-Null Count  Dtype  \n",
      "---  ------  --------------  -----  \n",
      " 0   user    2017 non-null   int32  \n",
      " 1   item    2017 non-null   int32  \n",
      " 2   rating  2017 non-null   float64\n",
      "dtypes: float64(1), int32(2)\n",
      "memory usage: 47.3 KB\n",
      "None\n"
     ]
    }
   ],
   "source": [
    "# Randomly sample 1% of the ratings dataset\n",
    "small_data = copy_data[copy_data.columns[0:3]].sample(frac = 0.02)\n",
    "# Check the sample info\n",
    "print(small_data)\n",
    "print(small_data.info())"
   ]
  },
  {
   "cell_type": "code",
   "execution_count": 16,
   "metadata": {},
   "outputs": [],
   "source": [
    "from sklearn.model_selection import train_test_split\n",
    "train_data, test_data = train_test_split(small_data, test_size=0.2)"
   ]
  },
  {
   "cell_type": "code",
   "execution_count": 17,
   "metadata": {},
   "outputs": [
    {
     "name": "stdout",
     "output_type": "stream",
     "text": [
      "(1613, 3)\n",
      "(404, 3)\n"
     ]
    }
   ],
   "source": [
    "# Create two user-item matrices, one for training and another for testing\n",
    "train_data_matrix = train_data[['user', 'item', 'rating']].to_numpy() \n",
    "test_data_matrix = test_data[['user', 'item', 'rating']].to_numpy() \n",
    "\n",
    "# Check their shape\n",
    "print(train_data_matrix.shape)\n",
    "print(test_data_matrix.shape)"
   ]
  },
  {
   "cell_type": "code",
   "execution_count": 19,
   "metadata": {},
   "outputs": [
    {
     "name": "stdout",
     "output_type": "stream",
     "text": [
      "[[1.         0.99997096 0.99999549 0.09419911]\n",
      " [0.99997096 1.         0.99998935 0.08660954]\n",
      " [0.99999549 0.99998935 1.         0.09120719]\n",
      " [0.09419911 0.08660954 0.09120719 1.        ]]\n"
     ]
    }
   ],
   "source": [
    "from sklearn.metrics.pairwise import pairwise_distances\n",
    "# User Similarity Matrix\n",
    "user_correlation = 1 - pairwise_distances(train_data, metric='correlation')\n",
    "user_correlation[np.isnan(user_correlation)] = 0\n",
    "print(user_correlation[:4, :4])"
   ]
  },
  {
   "cell_type": "code",
   "execution_count": 20,
   "metadata": {},
   "outputs": [
    {
     "name": "stdout",
     "output_type": "stream",
     "text": [
      "[[ 1.         -0.01874702 -0.05306148]\n",
      " [-0.01874702  1.         -0.00185193]\n",
      " [-0.05306148 -0.00185193  1.        ]]\n"
     ]
    }
   ],
   "source": [
    "# Item Similarity Matrix\n",
    "item_correlation = 1 - pairwise_distances(train_data_matrix.T, metric='correlation')\n",
    "item_correlation[np.isnan(item_correlation)] = 0\n",
    "print(item_correlation[:4, :4])"
   ]
  },
  {
   "cell_type": "code",
   "execution_count": 21,
   "metadata": {},
   "outputs": [],
   "source": [
    "# Function to predict ratings\n",
    "def predict(ratings, similarity, type='user'):\n",
    "    if type == 'user':\n",
    "        mean_user_rating = ratings.mean(axis=1)\n",
    "        # Use np.newaxis so that mean_user_rating has same format as ratings\n",
    "        ratings_diff = (ratings - mean_user_rating[:, np.newaxis])\n",
    "        pred = mean_user_rating[:, np.newaxis] + similarity.dot(ratings_diff) / np.array([np.abs(similarity).sum(axis=1)]).T\n",
    "    elif type == 'item':\n",
    "        pred = ratings.dot(similarity) / np.array([np.abs(similarity).sum(axis=1)])\n",
    "    return pred"
   ]
  },
  {
   "cell_type": "code",
   "execution_count": 22,
   "metadata": {},
   "outputs": [],
   "source": [
    "from sklearn.metrics import mean_squared_error\n",
    "from math import sqrt\n",
    "\n",
    "# Function to calculate RMSE\n",
    "def rmse(pred, actual):\n",
    "    # Ignore nonzero terms.\n",
    "    pred = pred[actual.nonzero()].flatten()\n",
    "    actual = actual[actual.nonzero()].flatten()\n",
    "    return sqrt(mean_squared_error(pred, actual))"
   ]
  },
  {
   "cell_type": "code",
   "execution_count": 25,
   "metadata": {},
   "outputs": [
    {
     "name": "stdout",
     "output_type": "stream",
     "text": [
      "User-based CF RMSE: 23109.288106551114\n",
      "Item-based CF RMSE: 28567.959886751567\n"
     ]
    }
   ],
   "source": [
    "# Predict ratings on the training data with both similarity score\n",
    "user_prediction = predict(train_data_matrix, user_correlation, type='user')\n",
    "item_prediction = predict(train_data_matrix, item_correlation, type='item')\n",
    "\n",
    "# RMSE on the test data\n",
    "#print(user_prediction)\n",
    "print('User-based CF RMSE: ' + str(rmse(user_prediction, test_data_matrix)))\n",
    "print('Item-based CF RMSE: ' + str(rmse(item_prediction, test_data_matrix)))"
   ]
  },
  {
   "cell_type": "code",
   "execution_count": 26,
   "metadata": {},
   "outputs": [
    {
     "name": "stdout",
     "output_type": "stream",
     "text": [
      "User-based CF RMSE: 17276.159304115183\n",
      "Item-based CF RMSE: 656.4057881512385\n"
     ]
    }
   ],
   "source": [
    "# RMSE on the train data\n",
    "print('User-based CF RMSE: ' + str(rmse(user_prediction, train_data_matrix)))\n",
    "print('Item-based CF RMSE: ' + str(rmse(item_prediction, train_data_matrix)))"
   ]
  },
  {
   "cell_type": "code",
   "execution_count": null,
   "metadata": {},
   "outputs": [],
   "source": []
  },
  {
   "cell_type": "code",
   "execution_count": null,
   "metadata": {},
   "outputs": [],
   "source": []
  },
  {
   "cell_type": "code",
   "execution_count": null,
   "metadata": {},
   "outputs": [],
   "source": []
  }
 ],
 "metadata": {
  "kernelspec": {
   "display_name": "Python 3",
   "language": "python",
   "name": "python3"
  },
  "language_info": {
   "codemirror_mode": {
    "name": "ipython",
    "version": 3
   },
   "file_extension": ".py",
   "mimetype": "text/x-python",
   "name": "python",
   "nbconvert_exporter": "python",
   "pygments_lexer": "ipython3",
   "version": "3.8.3"
  }
 },
 "nbformat": 4,
 "nbformat_minor": 4
}
